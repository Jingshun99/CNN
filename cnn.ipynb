{
 "cells": [
  {
   "cell_type": "code",
   "execution_count": null,
   "metadata": {},
   "outputs": [],
   "source": [
    "import torch\n",
    "import torchvision\n",
    "import torchvision.transforms as transforms\n",
    "import ssl\n",
    "ssl._create_default_https_context = ssl._create_unverified_context\n",
    "\n",
    "transform = transforms.Compose(\n",
    "    [transforms.ToTensor(),\n",
    "     transforms.Normalize((0.5,0.5,0.5),(0.5,0.5,0.5))])\n",
    "\n",
    "batch_size = 5\n",
    "ap_num, am_num,bird_num,cat_num,deer_num = 0,0,0,0,0\n",
    "\n",
    "trainset = torchvision.datasets.CIFAR10(root='./data', train=True, \n",
    "                                        download=True, transform=transform)\n",
    "ap_indices, am_indices, bird_indices, cat_indices, deer_indices = [],[],[],[],[]\n",
    "ap_idx, am_idx, bird_idx, cat_idx, deer_idx = trainset.class_to_idx['airplane'], trainset.class_to_idx['automobile'], trainset.class_to_idx['bird'], trainset.class_to_idx['cat'], trainset.class_to_idx['deer']\n",
    "for i in range(len(trainset)):\n",
    "  current_class = trainset[i][1]\n",
    "  if current_class == ap_idx:\n",
    "    if ap_num<50:\n",
    "      ap_indices.append(i)\n",
    "      ap_num+=1\n",
    "  elif current_class == am_idx:\n",
    "    if am_num<50:\n",
    "      am_indices.append(i)\n",
    "      am_num+=1\n",
    "  elif current_class == bird_idx:\n",
    "    if bird_num<50:\n",
    "      bird_indices.append(i)\n",
    "      bird_num+=1\n",
    "  elif current_class == cat_idx:\n",
    "    if cat_num<50:\n",
    "      cat_indices.append(i)\n",
    "      cat_num+=1\n",
    "  elif current_class == deer_idx:\n",
    "    if deer_num<50:\n",
    "      deer_indices.append(i)\n",
    "      deer_num+=1\n",
    "\n",
    "print('Number of airplane images:%d'%ap_num)\n",
    "print('Number of automobile images:%d'%am_num)\n",
    "print('Number of bird images:%d'%bird_num)\n",
    "print('Number of cat images:%d'%cat_num)\n",
    "print('Number of deer images:%d'%deer_num)\n",
    "\n",
    "new_train = torch.utils.data.Subset(trainset,ap_indices+am_indices+bird_indices+cat_indices+deer_indices)\n",
    "\n",
    "trainloader = torch.utils.data.DataLoader(new_train, batch_size = batch_size,\n",
    "                                          shuffle=True, num_workers=2)\n",
    "\n",
    "ap_num, am_num,bird_num,cat_num,deer_num = 0,0,0,0,0\n",
    "\n",
    "testset = torchvision.datasets.CIFAR10(root='./data', train=False, \n",
    "                                       download=True, transform=transform)\n",
    "ap_indices, am_indices, bird_indices, cat_indices, deer_indices = [],[],[],[],[]\n",
    "ap_idx, am_idx, bird_idx, cat_idx, deer_idx = testset.class_to_idx['airplane'], testset.class_to_idx['automobile'], testset.class_to_idx['bird'], testset.class_to_idx['cat'], testset.class_to_idx['deer']\n",
    "for i in range(len(testset)):\n",
    "  current_class = testset[i][1]\n",
    "  if current_class == ap_idx:\n",
    "    if ap_num<30:\n",
    "      ap_indices.append(i)\n",
    "      ap_num+=1\n",
    "  elif current_class == am_idx:\n",
    "    if am_num<30:\n",
    "      am_indices.append(i)\n",
    "      am_num+=1\n",
    "  elif current_class == bird_idx:\n",
    "    if bird_num<30:\n",
    "      bird_indices.append(i)\n",
    "      bird_num+=1\n",
    "  elif current_class == cat_idx:\n",
    "    if cat_num<30:\n",
    "      cat_indices.append(i)\n",
    "      cat_num+=1\n",
    "  elif current_class == deer_idx:\n",
    "    if deer_num<30:\n",
    "      deer_indices.append(i)\n",
    "      deer_num+=1\n",
    "\n",
    "print('Number of airplane images:%d'%ap_num)\n",
    "print('Number of automobile images:%d'%am_num)\n",
    "print('Number of bird images:%d'%bird_num)\n",
    "print('Number of cat images:%d'%cat_num)\n",
    "print('Number of deer images:%d'%deer_num)\n",
    "\n",
    "new_test = torch.utils.data.Subset(testset,ap_indices+am_indices+bird_indices+cat_indices+deer_indices)\n",
    "\n",
    "testloader = torch.utils.data.DataLoader(new_test, batch_size = batch_size,\n",
    "                                         shuffle=False, num_workers=2)\n",
    "\n",
    "classes = ('airplane', 'automobile', 'bird', 'cat',\n",
    "           'deer')"
   ]
  },
  {
   "cell_type": "code",
   "execution_count": null,
   "metadata": {},
   "outputs": [],
   "source": [
    "import matplotlib.pyplot as plt\n",
    "import numpy as np\n",
    "\n",
    "def imshow(img):\n",
    "    img = img / 2 + 0.5\n",
    "    npimg = img.numpy()\n",
    "    plt.imshow(np.transpose(npimg,(1,2,0)))\n",
    "    plt.show()\n",
    "\n",
    "dataiter = iter(trainloader)\n",
    "images, labels = dataiter.next()\n",
    "\n",
    "imshow(torchvision.utils.make_grid(images))\n",
    "\n",
    "print(' '.join('%5s' %classes[labels[j]] for j in range(batch_size)))"
   ]
  },
  {
   "cell_type": "code",
   "execution_count": null,
   "metadata": {},
   "outputs": [],
   "source": [
    "import torch.nn as nn\n",
    "import torch.nn.functional as F\n",
    "\n",
    "class Net(nn.Module):\n",
    "    def __init__(self):\n",
    "        super().__init__()\n",
    "        self.conv1 = nn.Conv2d(3, 6, 5)\n",
    "        self.pool = nn.MaxPool2d(2,2)\n",
    "        self.conv2 = nn.Conv2d(6,16,5)\n",
    "        self.fc1 = nn.Linear(16*5*5, 120)\n",
    "        self.fc2 = nn.Linear(120, 84)\n",
    "        self.fc3 = nn.Linear(84, 10)\n",
    "\n",
    "    def forward(self,x):\n",
    "        x = self.pool(F.relu(self.conv1(x)))\n",
    "        x = self.pool(F.relu(self.conv2(x)))\n",
    "        x = torch.flatten(x,1)\n",
    "        x = F.relu(self.fc1(x))\n",
    "        x = F.relu(self.fc2(x))\n",
    "        x = self.fc3(x)\n",
    "        return x\n",
    "        \n",
    "net = Net()"
   ]
  },
  {
   "cell_type": "code",
   "execution_count": null,
   "metadata": {},
   "outputs": [],
   "source": [
    "import torch.optim as optim\n",
    "\n",
    "criterion = nn.CrossEntropyLoss()\n",
    "optimizer = optim.SGD(net.parameters(), lr=0.001, momentum=0.9)"
   ]
  },
  {
   "cell_type": "code",
   "execution_count": null,
   "metadata": {},
   "outputs": [],
   "source": [
    "for epoch in range(10):\n",
    "\n",
    "    running_loss = 0.0\n",
    "    for i, data in enumerate(trainloader, 0):\n",
    "        inputs, labels = data\n",
    "        optimizer.zero_grad()\n",
    "        outputs = net(inputs)\n",
    "        loss = criterion(outputs, labels)\n",
    "        loss.backward()\n",
    "        optimizer.step()\n",
    "\n",
    "        running_loss += loss.item()\n",
    "        if i%50 == 49:\n",
    "            print('[%d, %5d] loss:%.3f'%(epoch+1,i+1,running_loss/50))\n",
    "            running_loss =0.0\n",
    "\n",
    "print('Finished Training')\n"
   ]
  },
  {
   "cell_type": "code",
   "execution_count": null,
   "metadata": {},
   "outputs": [],
   "source": [
    "PATH = './cifar_net.pth'\n",
    "torch.save(net.state_dict(), PATH)"
   ]
  },
  {
   "cell_type": "code",
   "execution_count": null,
   "metadata": {},
   "outputs": [],
   "source": [
    "dataiter = iter(testloader)\n",
    "images, labels = dataiter.next()\n",
    "\n",
    "imshow(torchvision.utils.make_grid(images))\n",
    "print('GroundTruth:',''.join('%5s ' % classes[labels[j]] for j in range(batch_size)))"
   ]
  },
  {
   "cell_type": "code",
   "execution_count": null,
   "metadata": {},
   "outputs": [],
   "source": [
    "net = Net()\n",
    "net.load_state_dict(torch.load(PATH))"
   ]
  },
  {
   "cell_type": "code",
   "execution_count": null,
   "metadata": {},
   "outputs": [],
   "source": [
    "outputs = net(images)"
   ]
  },
  {
   "cell_type": "code",
   "execution_count": null,
   "metadata": {},
   "outputs": [],
   "source": [
    "_, predicted = torch.max(outputs,1)\n",
    "\n",
    "print('Predicted: ', ''.join('%5s' % classes[predicted[j]] for j in range(batch_size)))"
   ]
  },
  {
   "cell_type": "code",
   "execution_count": null,
   "metadata": {},
   "outputs": [],
   "source": [
    "correct = 0\n",
    "total = 0\n",
    "\n",
    "with torch.no_grad():\n",
    "   for data in testloader:\n",
    "       images, labels = data\n",
    "       outputs = net(images)\n",
    "       _, predicted = torch.max(outputs.data, 1)\n",
    "       total += labels.size(0)\n",
    "       correct += (predicted == labels).sum().item()\n",
    "\n",
    "print('Accuracy: %d %%' %(100*correct/total)) \n",
    "\n"
   ]
  },
  {
   "cell_type": "code",
   "execution_count": null,
   "metadata": {},
   "outputs": [],
   "source": [
    "correct_pred = {classname: 0 for classname in classes}\n",
    "total_pred = {classname: 0 for classname in classes}\n",
    "\n",
    "with torch.no_grad():\n",
    "    for data in testloader:\n",
    "        images, labels = data\n",
    "        outputs = net(images)\n",
    "        _, predictions = torch.max(outputs,1)\n",
    "        for label, prediction in zip(labels, predictions):\n",
    "            if label == prediction:\n",
    "                correct_pred[classes[label]] += 1\n",
    "            total_pred[classes[label]] += 1\n",
    "\n",
    "for classname, correct_count in correct_pred.items():\n",
    "    accuracy = 100*float(correct_count)/total_pred[classname]\n",
    "    print('Accuracy for class {:5s} is : {:.1f} %'.format(classname,accuracy))"
   ]
  },
  {
   "cell_type": "code",
   "execution_count": null,
   "metadata": {},
   "outputs": [],
   "source": [
    "device = torch.device('cuda:0' if torch.cuda.is_available()else 'cpu')\n",
    "print(device)"
   ]
  },
  {
   "cell_type": "code",
   "execution_count": null,
   "metadata": {},
   "outputs": [],
   "source": []
  }
 ],
 "metadata": {
  "interpreter": {
   "hash": "5b708e21cca5afb5b08a91b56746db71e3f3fcadff9e4dd639f4dfc387623dd7"
  },
  "kernelspec": {
   "display_name": "Python 3.9.7 64-bit",
   "language": "python",
   "name": "python3"
  },
  "language_info": {
   "codemirror_mode": {
    "name": "ipython",
    "version": 3
   },
   "file_extension": ".py",
   "mimetype": "text/x-python",
   "name": "python",
   "nbconvert_exporter": "python",
   "pygments_lexer": "ipython3",
   "version": "3.9.7"
  },
  "orig_nbformat": 4
 },
 "nbformat": 4,
 "nbformat_minor": 2
}
